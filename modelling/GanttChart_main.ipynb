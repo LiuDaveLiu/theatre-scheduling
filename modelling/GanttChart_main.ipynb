{
 "cells": [
  {
   "cell_type": "code",
   "execution_count": 1,
   "id": "da4b866e",
   "metadata": {},
   "outputs": [],
   "source": [
    "import pandas as pd\n",
    "import os\n",
    "import re\n",
    "import matplotlib.pyplot as plt\n",
    "import matplotlib.cm as cm\n",
    "from matplotlib.ticker import MaxNLocator\n",
    "from moviepy.editor import VideoClip\n",
    "from moviepy.video.io.bindings import mplfig_to_npimage\n",
    "\n",
    "import scheduler_mda as sch_mda"
   ]
  },
  {
   "cell_type": "code",
   "execution_count": 2,
   "id": "8aa02bdd",
   "metadata": {},
   "outputs": [],
   "source": [
    "case_path = os.path.join(os.path.dirname(os.getcwd()), \"data\", \"gantt.csv\")\n",
    "session_path = os.path.join(os.path.dirname(os.getcwd()), \"data\", \"sessions_mda.csv\")\n",
    "# case_path = os.path.join(os.path.dirname(os.getcwd()), \"data\", \"gantt_main.csv\")\n",
    "# session_path = os.path.join(os.path.dirname(os.getcwd()), \"data\", \"sessions_mda_main.csv\")\n",
    "options = {\"seconds\": 500}"
   ]
  },
  {
   "cell_type": "code",
   "execution_count": 3,
   "id": "182b79a3",
   "metadata": {},
   "outputs": [
    {
     "name": "stdout",
     "output_type": "stream",
     "text": [
      "WARNING: Element 10 already exists in set SURGEONS; no action taken.\n",
      "WARNING: Element 10 already exists in set SURGEONS; no action taken.\n",
      "WARNING: Element 10 already exists in set SURGEONS; no action taken.\n",
      "WARNING: Element 10 already exists in set SURGEONS; no action taken.\n",
      "WARNING: Element 6 already exists in set SURGEONS; no action taken.\n",
      "WARNING: Element 10 already exists in set SURGEONS; no action taken.\n",
      "WARNING: Element 8 already exists in set SURGEONS; no action taken.\n",
      "WARNING: Element 3 already exists in set SURGEONS; no action taken.\n",
      "WARNING: Element 7 already exists in set SURGEONS; no action taken.\n",
      "WARNING: Element 0 already exists in set SURGEONS; no action taken.\n",
      "WARNING: Element 0 already exists in set SURGEONS; no action taken.\n",
      "WARNING: Element 0 already exists in set SURGEONS; no action taken.\n",
      "ERROR: Rule failed when generating expression for disjunction\n",
      "    DISJUNCTIONS_RULE_SHO with index (0, 4, 1, 2): TypeError: unsupported\n",
      "    operand type(s) for &: 'InequalityExpression' and 'bool'\n",
      "ERROR: Constructing component 'DISJUNCTIONS_RULE_SHO' from data=None failed:\n",
      "    TypeError: unsupported operand type(s) for &: 'InequalityExpression' and\n",
      "    'bool'\n"
     ]
    },
    {
     "ename": "TypeError",
     "evalue": "unsupported operand type(s) for &: 'InequalityExpression' and 'bool'",
     "output_type": "error",
     "traceback": [
      "\u001b[1;31m---------------------------------------------------------------------------\u001b[0m",
      "\u001b[1;31mTypeError\u001b[0m                                 Traceback (most recent call last)",
      "File \u001b[1;32mc:\\users\\lliu10\\anaconda3\\envs\\lp_pyomo\\lib\\site-packages\\pyomo\\core\\base\\misc.py:57\u001b[0m, in \u001b[0;36mapply_indexed_rule\u001b[1;34m(obj, rule, model, index, options)\u001b[0m\n\u001b[0;32m     56\u001b[0m \u001b[38;5;28;01mif\u001b[39;00m index\u001b[38;5;241m.\u001b[39m\u001b[38;5;18m__class__\u001b[39m \u001b[38;5;129;01mis\u001b[39;00m \u001b[38;5;28mtuple\u001b[39m:\n\u001b[1;32m---> 57\u001b[0m     \u001b[38;5;28;01mreturn\u001b[39;00m \u001b[43mrule\u001b[49m\u001b[43m(\u001b[49m\u001b[43mmodel\u001b[49m\u001b[43m,\u001b[49m\u001b[43m \u001b[49m\u001b[38;5;241;43m*\u001b[39;49m\u001b[43mindex\u001b[49m\u001b[43m)\u001b[49m\n\u001b[0;32m     58\u001b[0m \u001b[38;5;28;01melif\u001b[39;00m index \u001b[38;5;129;01mis\u001b[39;00m \u001b[38;5;28;01mNone\u001b[39;00m \u001b[38;5;129;01mand\u001b[39;00m \u001b[38;5;129;01mnot\u001b[39;00m obj\u001b[38;5;241m.\u001b[39mis_indexed():\n",
      "File \u001b[1;32m~\\OneDrive - Inside MD Anderson\\Documents\\GitHub\\theatre-scheduling\\modelling\\scheduler_mda.py:282\u001b[0m, in \u001b[0;36mTheatreScheduler.create_model.<locals>.short_first\u001b[1;34m(model, case1, case2, session1, session2)\u001b[0m\n\u001b[0;32m    281\u001b[0m \u001b[38;5;28;01mdef\u001b[39;00m \u001b[38;5;21mshort_first\u001b[39m(model, case1, case2, session1, session2):\n\u001b[1;32m--> 282\u001b[0m     \u001b[38;5;28;01mreturn\u001b[39;00m [\u001b[43m(\u001b[49m\u001b[43mmodel\u001b[49m\u001b[38;5;241;43m.\u001b[39;49m\u001b[43mCASE_START_TIME\u001b[49m\u001b[43m[\u001b[49m\u001b[43mcase1\u001b[49m\u001b[43m,\u001b[49m\u001b[43m \u001b[49m\u001b[43msession1\u001b[49m\u001b[43m]\u001b[49m\u001b[43m \u001b[49m\u001b[38;5;241;43m<\u001b[39;49m\u001b[38;5;241;43m=\u001b[39;49m\u001b[43m \u001b[49m\u001b[43mmodel\u001b[49m\u001b[38;5;241;43m.\u001b[39;49m\u001b[43mCASE_START_TIME\u001b[49m\u001b[43m[\u001b[49m\u001b[43mcase2\u001b[49m\u001b[43m,\u001b[49m\u001b[43m \u001b[49m\u001b[43msession2\u001b[49m\u001b[43m]\u001b[49m\u001b[43m \u001b[49m\u001b[38;5;241;43m+\u001b[39;49m\u001b[43m \u001b[49m\u001b[43m\\\u001b[49m\n\u001b[0;32m    283\u001b[0m \u001b[43m            \u001b[49m\u001b[43m(\u001b[49m\u001b[43m(\u001b[49m\u001b[38;5;241;43m2\u001b[39;49m\u001b[43m \u001b[49m\u001b[38;5;241;43m-\u001b[39;49m\u001b[43m \u001b[49m\u001b[43mmodel\u001b[49m\u001b[38;5;241;43m.\u001b[39;49m\u001b[43mSESSION_ASSIGNED\u001b[49m\u001b[43m[\u001b[49m\u001b[43mcase1\u001b[49m\u001b[43m,\u001b[49m\u001b[43m \u001b[49m\u001b[43msession1\u001b[49m\u001b[43m]\u001b[49m\u001b[43m \u001b[49m\u001b[38;5;241;43m-\u001b[39;49m\u001b[43m \u001b[49m\u001b[43mmodel\u001b[49m\u001b[38;5;241;43m.\u001b[39;49m\u001b[43mSESSION_ASSIGNED\u001b[49m\u001b[43m[\u001b[49m\u001b[43mcase2\u001b[49m\u001b[43m,\u001b[49m\u001b[43m \u001b[49m\u001b[43msession2\u001b[49m\u001b[43m]\u001b[49m\u001b[43m)\u001b[49m\u001b[38;5;241;43m*\u001b[39;49m\u001b[43mmodel\u001b[49m\u001b[38;5;241;43m.\u001b[39;49m\u001b[43mM\u001b[49m\u001b[43m)\u001b[49m\u001b[43m)\u001b[49m\u001b[43m \u001b[49m\u001b[38;5;241;43m&\u001b[39;49m\u001b[43m \u001b[49m\u001b[43m(\u001b[49m\u001b[43mmodel\u001b[49m\u001b[38;5;241;43m.\u001b[39;49m\u001b[43mCASE_DURATION\u001b[49m\u001b[43m[\u001b[49m\u001b[43mcase1\u001b[49m\u001b[43m]\u001b[49m\u001b[43m \u001b[49m\u001b[38;5;241;43m<\u001b[39;49m\u001b[38;5;241;43m=\u001b[39;49m\u001b[43m \u001b[49m\u001b[43mmodel\u001b[49m\u001b[38;5;241;43m.\u001b[39;49m\u001b[43mCASE_DURATION\u001b[49m\u001b[43m[\u001b[49m\u001b[43mcase2\u001b[49m\u001b[43m]\u001b[49m\u001b[43m)\u001b[49m,\n\u001b[0;32m    284\u001b[0m             (model\u001b[38;5;241m.\u001b[39mCASE_START_TIME[case2, session2] \u001b[38;5;241m<\u001b[39m\u001b[38;5;241m=\u001b[39m model\u001b[38;5;241m.\u001b[39mCASE_START_TIME[case1, session1] \u001b[38;5;241m+\u001b[39m \\\n\u001b[0;32m    285\u001b[0m             ((\u001b[38;5;241m2\u001b[39m \u001b[38;5;241m-\u001b[39m model\u001b[38;5;241m.\u001b[39mSESSION_ASSIGNED[case1, session1] \u001b[38;5;241m-\u001b[39m model\u001b[38;5;241m.\u001b[39mSESSION_ASSIGNED[case2, session2])\u001b[38;5;241m*\u001b[39mmodel\u001b[38;5;241m.\u001b[39mM)) \u001b[38;5;241m&\u001b[39m (model\u001b[38;5;241m.\u001b[39mCASE_DURATION[case2] \u001b[38;5;241m<\u001b[39m\u001b[38;5;241m=\u001b[39m model\u001b[38;5;241m.\u001b[39mCASE_DURATION[case1])]\n",
      "\u001b[1;31mTypeError\u001b[0m: unsupported operand type(s) for &: 'InequalityExpression' and 'bool'",
      "\nDuring handling of the above exception, another exception occurred:\n",
      "\u001b[1;31mTypeError\u001b[0m                                 Traceback (most recent call last)",
      "File \u001b[1;32mc:\\users\\lliu10\\anaconda3\\envs\\lp_pyomo\\lib\\site-packages\\pyomo\\core\\base\\misc.py:72\u001b[0m, in \u001b[0;36mapply_indexed_rule\u001b[1;34m(obj, rule, model, index, options)\u001b[0m\n\u001b[0;32m     71\u001b[0m \u001b[38;5;28;01mif\u001b[39;00m options \u001b[38;5;129;01mis\u001b[39;00m \u001b[38;5;28;01mNone\u001b[39;00m:\n\u001b[1;32m---> 72\u001b[0m     \u001b[38;5;28;01mreturn\u001b[39;00m \u001b[43mrule\u001b[49m\u001b[43m(\u001b[49m\u001b[43mmodel\u001b[49m\u001b[43m)\u001b[49m\n\u001b[0;32m     73\u001b[0m \u001b[38;5;28;01melse\u001b[39;00m:\n",
      "\u001b[1;31mTypeError\u001b[0m: short_first() missing 4 required positional arguments: 'case1', 'case2', 'session1', and 'session2'",
      "\nDuring handling of the above exception, another exception occurred:\n",
      "\u001b[1;31mTypeError\u001b[0m                                 Traceback (most recent call last)",
      "Cell \u001b[1;32mIn[3], line 1\u001b[0m\n\u001b[1;32m----> 1\u001b[0m scheduler \u001b[38;5;241m=\u001b[39m \u001b[43msch_mda\u001b[49m\u001b[38;5;241;43m.\u001b[39;49m\u001b[43mTheatreScheduler\u001b[49m\u001b[43m(\u001b[49m\u001b[43mcase_file_path\u001b[49m\u001b[38;5;241;43m=\u001b[39;49m\u001b[43mcase_path\u001b[49m\u001b[43m,\u001b[49m\u001b[43m \u001b[49m\u001b[43msession_file_path\u001b[49m\u001b[38;5;241;43m=\u001b[39;49m\u001b[43msession_path\u001b[49m\u001b[43m)\u001b[49m\n",
      "File \u001b[1;32m~\\OneDrive - Inside MD Anderson\\Documents\\GitHub\\theatre-scheduling\\modelling\\scheduler_mda.py:49\u001b[0m, in \u001b[0;36mTheatreScheduler.__init__\u001b[1;34m(self, case_file_path, session_file_path)\u001b[0m\n\u001b[0;32m     47\u001b[0m \u001b[38;5;28;01mexcept\u001b[39;00m \u001b[38;5;167;01mFileNotFoundError\u001b[39;00m:\n\u001b[0;32m     48\u001b[0m     \u001b[38;5;28mprint\u001b[39m(\u001b[38;5;124m\"\u001b[39m\u001b[38;5;124mSession data not found\u001b[39m\u001b[38;5;124m\"\u001b[39m)\n\u001b[1;32m---> 49\u001b[0m \u001b[38;5;28mself\u001b[39m\u001b[38;5;241m.\u001b[39mmodel \u001b[38;5;241m=\u001b[39m \u001b[38;5;28;43mself\u001b[39;49m\u001b[38;5;241;43m.\u001b[39;49m\u001b[43mcreate_model\u001b[49m\u001b[43m(\u001b[49m\u001b[43m)\u001b[49m\n",
      "File \u001b[1;32m~\\OneDrive - Inside MD Anderson\\Documents\\GitHub\\theatre-scheduling\\modelling\\scheduler_mda.py:286\u001b[0m, in \u001b[0;36mTheatreScheduler.create_model\u001b[1;34m(self)\u001b[0m\n\u001b[0;32m    281\u001b[0m \u001b[38;5;28;01mdef\u001b[39;00m \u001b[38;5;21mshort_first\u001b[39m(model, case1, case2, session1, session2):\n\u001b[0;32m    282\u001b[0m     \u001b[38;5;28;01mreturn\u001b[39;00m [(model\u001b[38;5;241m.\u001b[39mCASE_START_TIME[case1, session1] \u001b[38;5;241m<\u001b[39m\u001b[38;5;241m=\u001b[39m model\u001b[38;5;241m.\u001b[39mCASE_START_TIME[case2, session2] \u001b[38;5;241m+\u001b[39m \\\n\u001b[0;32m    283\u001b[0m             ((\u001b[38;5;241m2\u001b[39m \u001b[38;5;241m-\u001b[39m model\u001b[38;5;241m.\u001b[39mSESSION_ASSIGNED[case1, session1] \u001b[38;5;241m-\u001b[39m model\u001b[38;5;241m.\u001b[39mSESSION_ASSIGNED[case2, session2])\u001b[38;5;241m*\u001b[39mmodel\u001b[38;5;241m.\u001b[39mM)) \u001b[38;5;241m&\u001b[39m (model\u001b[38;5;241m.\u001b[39mCASE_DURATION[case1] \u001b[38;5;241m<\u001b[39m\u001b[38;5;241m=\u001b[39m model\u001b[38;5;241m.\u001b[39mCASE_DURATION[case2]),\n\u001b[0;32m    284\u001b[0m             (model\u001b[38;5;241m.\u001b[39mCASE_START_TIME[case2, session2] \u001b[38;5;241m<\u001b[39m\u001b[38;5;241m=\u001b[39m model\u001b[38;5;241m.\u001b[39mCASE_START_TIME[case1, session1] \u001b[38;5;241m+\u001b[39m \\\n\u001b[0;32m    285\u001b[0m             ((\u001b[38;5;241m2\u001b[39m \u001b[38;5;241m-\u001b[39m model\u001b[38;5;241m.\u001b[39mSESSION_ASSIGNED[case1, session1] \u001b[38;5;241m-\u001b[39m model\u001b[38;5;241m.\u001b[39mSESSION_ASSIGNED[case2, session2])\u001b[38;5;241m*\u001b[39mmodel\u001b[38;5;241m.\u001b[39mM)) \u001b[38;5;241m&\u001b[39m (model\u001b[38;5;241m.\u001b[39mCASE_DURATION[case2] \u001b[38;5;241m<\u001b[39m\u001b[38;5;241m=\u001b[39m model\u001b[38;5;241m.\u001b[39mCASE_DURATION[case1])]\n\u001b[1;32m--> 286\u001b[0m \u001b[43mmodel\u001b[49m\u001b[38;5;241;43m.\u001b[39;49m\u001b[43mDISJUNCTIONS_RULE_SHO\u001b[49m \u001b[38;5;241m=\u001b[39m pyogdp\u001b[38;5;241m.\u001b[39mDisjunction(model\u001b[38;5;241m.\u001b[39mDISJUNCTIONS_SUR, rule\u001b[38;5;241m=\u001b[39mshort_first)\n\u001b[0;32m    288\u001b[0m pe\u001b[38;5;241m.\u001b[39mTransformationFactory(\u001b[38;5;124m\"\u001b[39m\u001b[38;5;124mgdp.bigm\u001b[39m\u001b[38;5;124m\"\u001b[39m)\u001b[38;5;241m.\u001b[39mapply_to(model)\n\u001b[0;32m    290\u001b[0m \u001b[38;5;28;01mreturn\u001b[39;00m model\n",
      "File \u001b[1;32mc:\\users\\lliu10\\anaconda3\\envs\\lp_pyomo\\lib\\site-packages\\pyomo\\core\\base\\block.py:578\u001b[0m, in \u001b[0;36m_BlockData.__setattr__\u001b[1;34m(self, name, val)\u001b[0m\n\u001b[0;32m    573\u001b[0m \u001b[38;5;28;01mif\u001b[39;00m name \u001b[38;5;129;01mnot\u001b[39;00m \u001b[38;5;129;01min\u001b[39;00m \u001b[38;5;28mself\u001b[39m\u001b[38;5;241m.\u001b[39m\u001b[38;5;18m__dict__\u001b[39m:\n\u001b[0;32m    574\u001b[0m     \u001b[38;5;28;01mif\u001b[39;00m \u001b[38;5;28misinstance\u001b[39m(val, Component):\n\u001b[0;32m    575\u001b[0m         \u001b[38;5;66;03m#\u001b[39;00m\n\u001b[0;32m    576\u001b[0m         \u001b[38;5;66;03m# Pyomo components are added with the add_component method.\u001b[39;00m\n\u001b[0;32m    577\u001b[0m         \u001b[38;5;66;03m#\u001b[39;00m\n\u001b[1;32m--> 578\u001b[0m         \u001b[38;5;28;43mself\u001b[39;49m\u001b[38;5;241;43m.\u001b[39;49m\u001b[43madd_component\u001b[49m\u001b[43m(\u001b[49m\u001b[43mname\u001b[49m\u001b[43m,\u001b[49m\u001b[43m \u001b[49m\u001b[43mval\u001b[49m\u001b[43m)\u001b[49m\n\u001b[0;32m    579\u001b[0m     \u001b[38;5;28;01melse\u001b[39;00m:\n\u001b[0;32m    580\u001b[0m         \u001b[38;5;66;03m#\u001b[39;00m\n\u001b[0;32m    581\u001b[0m         \u001b[38;5;66;03m# Other Python objects are added with the standard __setattr__\u001b[39;00m\n\u001b[0;32m    582\u001b[0m         \u001b[38;5;66;03m# method.\u001b[39;00m\n\u001b[0;32m    583\u001b[0m         \u001b[38;5;66;03m#\u001b[39;00m\n\u001b[0;32m    584\u001b[0m         \u001b[38;5;28msuper\u001b[39m(_BlockData, \u001b[38;5;28mself\u001b[39m)\u001b[38;5;241m.\u001b[39m\u001b[38;5;21m__setattr__\u001b[39m(name, val)\n",
      "File \u001b[1;32mc:\\users\\lliu10\\anaconda3\\envs\\lp_pyomo\\lib\\site-packages\\pyomo\\core\\base\\block.py:1131\u001b[0m, in \u001b[0;36m_BlockData.add_component\u001b[1;34m(self, name, val)\u001b[0m\n\u001b[0;32m   1127\u001b[0m     logger\u001b[38;5;241m.\u001b[39mdebug(\u001b[38;5;124m\"\u001b[39m\u001b[38;5;124mConstructing \u001b[39m\u001b[38;5;132;01m%s\u001b[39;00m\u001b[38;5;124m \u001b[39m\u001b[38;5;124m'\u001b[39m\u001b[38;5;132;01m%s\u001b[39;00m\u001b[38;5;124m'\u001b[39m\u001b[38;5;124m on \u001b[39m\u001b[38;5;132;01m%s\u001b[39;00m\u001b[38;5;124m from data=\u001b[39m\u001b[38;5;132;01m%s\u001b[39;00m\u001b[38;5;124m\"\u001b[39m,\n\u001b[0;32m   1128\u001b[0m                  val\u001b[38;5;241m.\u001b[39m\u001b[38;5;18m__class__\u001b[39m\u001b[38;5;241m.\u001b[39m\u001b[38;5;18m__name__\u001b[39m, val\u001b[38;5;241m.\u001b[39mname,\n\u001b[0;32m   1129\u001b[0m                  _blockName, \u001b[38;5;28mstr\u001b[39m(data))\n\u001b[0;32m   1130\u001b[0m \u001b[38;5;28;01mtry\u001b[39;00m:\n\u001b[1;32m-> 1131\u001b[0m     \u001b[43mval\u001b[49m\u001b[38;5;241;43m.\u001b[39;49m\u001b[43mconstruct\u001b[49m\u001b[43m(\u001b[49m\u001b[43mdata\u001b[49m\u001b[43m)\u001b[49m\n\u001b[0;32m   1132\u001b[0m \u001b[38;5;28;01mexcept\u001b[39;00m:\n\u001b[0;32m   1133\u001b[0m     err \u001b[38;5;241m=\u001b[39m sys\u001b[38;5;241m.\u001b[39mexc_info()[\u001b[38;5;241m1\u001b[39m]\n",
      "File \u001b[1;32mc:\\users\\lliu10\\anaconda3\\envs\\lp_pyomo\\lib\\site-packages\\pyomo\\gdp\\disjunct.py:375\u001b[0m, in \u001b[0;36mDisjunction.construct\u001b[1;34m(self, data)\u001b[0m\n\u001b[0;32m    373\u001b[0m \u001b[38;5;28;01mfor\u001b[39;00m ndx \u001b[38;5;129;01min\u001b[39;00m \u001b[38;5;28mself\u001b[39m\u001b[38;5;241m.\u001b[39m_index:\n\u001b[0;32m    374\u001b[0m     \u001b[38;5;28;01mtry\u001b[39;00m:\n\u001b[1;32m--> 375\u001b[0m         expr \u001b[38;5;241m=\u001b[39m \u001b[43mapply_indexed_rule\u001b[49m\u001b[43m(\u001b[49m\u001b[38;5;28;43mself\u001b[39;49m\u001b[43m,\u001b[49m\n\u001b[0;32m    376\u001b[0m \u001b[43m                                 \u001b[49m\u001b[43m_init_rule\u001b[49m\u001b[43m,\u001b[49m\n\u001b[0;32m    377\u001b[0m \u001b[43m                                 \u001b[49m\u001b[43m_self_parent\u001b[49m\u001b[43m,\u001b[49m\n\u001b[0;32m    378\u001b[0m \u001b[43m                                 \u001b[49m\u001b[43mndx\u001b[49m\u001b[43m)\u001b[49m\n\u001b[0;32m    379\u001b[0m     \u001b[38;5;28;01mexcept\u001b[39;00m \u001b[38;5;167;01mException\u001b[39;00m:\n\u001b[0;32m    380\u001b[0m         err \u001b[38;5;241m=\u001b[39m sys\u001b[38;5;241m.\u001b[39mexc_info()[\u001b[38;5;241m1\u001b[39m]\n",
      "File \u001b[1;32mc:\\users\\lliu10\\anaconda3\\envs\\lp_pyomo\\lib\\site-packages\\pyomo\\core\\base\\misc.py:80\u001b[0m, in \u001b[0;36mapply_indexed_rule\u001b[1;34m(obj, rule, model, index, options)\u001b[0m\n\u001b[0;32m     78\u001b[0m \u001b[38;5;28;01mif\u001b[39;00m options \u001b[38;5;129;01mis\u001b[39;00m \u001b[38;5;28;01mNone\u001b[39;00m:\n\u001b[0;32m     79\u001b[0m     \u001b[38;5;28;01mif\u001b[39;00m index\u001b[38;5;241m.\u001b[39m\u001b[38;5;18m__class__\u001b[39m \u001b[38;5;129;01mis\u001b[39;00m \u001b[38;5;28mtuple\u001b[39m:\n\u001b[1;32m---> 80\u001b[0m         \u001b[38;5;28;01mreturn\u001b[39;00m \u001b[43mrule\u001b[49m\u001b[43m(\u001b[49m\u001b[43mmodel\u001b[49m\u001b[43m,\u001b[49m\u001b[43m \u001b[49m\u001b[38;5;241;43m*\u001b[39;49m\u001b[43mindex\u001b[49m\u001b[43m)\u001b[49m\n\u001b[0;32m     81\u001b[0m     \u001b[38;5;28;01melif\u001b[39;00m index \u001b[38;5;129;01mis\u001b[39;00m \u001b[38;5;28;01mNone\u001b[39;00m \u001b[38;5;129;01mand\u001b[39;00m \u001b[38;5;129;01mnot\u001b[39;00m obj\u001b[38;5;241m.\u001b[39mis_indexed():\n\u001b[0;32m     82\u001b[0m         \u001b[38;5;28;01mreturn\u001b[39;00m rule(model)\n",
      "File \u001b[1;32m~\\OneDrive - Inside MD Anderson\\Documents\\GitHub\\theatre-scheduling\\modelling\\scheduler_mda.py:282\u001b[0m, in \u001b[0;36mTheatreScheduler.create_model.<locals>.short_first\u001b[1;34m(model, case1, case2, session1, session2)\u001b[0m\n\u001b[0;32m    281\u001b[0m \u001b[38;5;28;01mdef\u001b[39;00m \u001b[38;5;21mshort_first\u001b[39m(model, case1, case2, session1, session2):\n\u001b[1;32m--> 282\u001b[0m     \u001b[38;5;28;01mreturn\u001b[39;00m [\u001b[43m(\u001b[49m\u001b[43mmodel\u001b[49m\u001b[38;5;241;43m.\u001b[39;49m\u001b[43mCASE_START_TIME\u001b[49m\u001b[43m[\u001b[49m\u001b[43mcase1\u001b[49m\u001b[43m,\u001b[49m\u001b[43m \u001b[49m\u001b[43msession1\u001b[49m\u001b[43m]\u001b[49m\u001b[43m \u001b[49m\u001b[38;5;241;43m<\u001b[39;49m\u001b[38;5;241;43m=\u001b[39;49m\u001b[43m \u001b[49m\u001b[43mmodel\u001b[49m\u001b[38;5;241;43m.\u001b[39;49m\u001b[43mCASE_START_TIME\u001b[49m\u001b[43m[\u001b[49m\u001b[43mcase2\u001b[49m\u001b[43m,\u001b[49m\u001b[43m \u001b[49m\u001b[43msession2\u001b[49m\u001b[43m]\u001b[49m\u001b[43m \u001b[49m\u001b[38;5;241;43m+\u001b[39;49m\u001b[43m \u001b[49m\u001b[43m\\\u001b[49m\n\u001b[0;32m    283\u001b[0m \u001b[43m            \u001b[49m\u001b[43m(\u001b[49m\u001b[43m(\u001b[49m\u001b[38;5;241;43m2\u001b[39;49m\u001b[43m \u001b[49m\u001b[38;5;241;43m-\u001b[39;49m\u001b[43m \u001b[49m\u001b[43mmodel\u001b[49m\u001b[38;5;241;43m.\u001b[39;49m\u001b[43mSESSION_ASSIGNED\u001b[49m\u001b[43m[\u001b[49m\u001b[43mcase1\u001b[49m\u001b[43m,\u001b[49m\u001b[43m \u001b[49m\u001b[43msession1\u001b[49m\u001b[43m]\u001b[49m\u001b[43m \u001b[49m\u001b[38;5;241;43m-\u001b[39;49m\u001b[43m \u001b[49m\u001b[43mmodel\u001b[49m\u001b[38;5;241;43m.\u001b[39;49m\u001b[43mSESSION_ASSIGNED\u001b[49m\u001b[43m[\u001b[49m\u001b[43mcase2\u001b[49m\u001b[43m,\u001b[49m\u001b[43m \u001b[49m\u001b[43msession2\u001b[49m\u001b[43m]\u001b[49m\u001b[43m)\u001b[49m\u001b[38;5;241;43m*\u001b[39;49m\u001b[43mmodel\u001b[49m\u001b[38;5;241;43m.\u001b[39;49m\u001b[43mM\u001b[49m\u001b[43m)\u001b[49m\u001b[43m)\u001b[49m\u001b[43m \u001b[49m\u001b[38;5;241;43m&\u001b[39;49m\u001b[43m \u001b[49m\u001b[43m(\u001b[49m\u001b[43mmodel\u001b[49m\u001b[38;5;241;43m.\u001b[39;49m\u001b[43mCASE_DURATION\u001b[49m\u001b[43m[\u001b[49m\u001b[43mcase1\u001b[49m\u001b[43m]\u001b[49m\u001b[43m \u001b[49m\u001b[38;5;241;43m<\u001b[39;49m\u001b[38;5;241;43m=\u001b[39;49m\u001b[43m \u001b[49m\u001b[43mmodel\u001b[49m\u001b[38;5;241;43m.\u001b[39;49m\u001b[43mCASE_DURATION\u001b[49m\u001b[43m[\u001b[49m\u001b[43mcase2\u001b[49m\u001b[43m]\u001b[49m\u001b[43m)\u001b[49m,\n\u001b[0;32m    284\u001b[0m             (model\u001b[38;5;241m.\u001b[39mCASE_START_TIME[case2, session2] \u001b[38;5;241m<\u001b[39m\u001b[38;5;241m=\u001b[39m model\u001b[38;5;241m.\u001b[39mCASE_START_TIME[case1, session1] \u001b[38;5;241m+\u001b[39m \\\n\u001b[0;32m    285\u001b[0m             ((\u001b[38;5;241m2\u001b[39m \u001b[38;5;241m-\u001b[39m model\u001b[38;5;241m.\u001b[39mSESSION_ASSIGNED[case1, session1] \u001b[38;5;241m-\u001b[39m model\u001b[38;5;241m.\u001b[39mSESSION_ASSIGNED[case2, session2])\u001b[38;5;241m*\u001b[39mmodel\u001b[38;5;241m.\u001b[39mM)) \u001b[38;5;241m&\u001b[39m (model\u001b[38;5;241m.\u001b[39mCASE_DURATION[case2] \u001b[38;5;241m<\u001b[39m\u001b[38;5;241m=\u001b[39m model\u001b[38;5;241m.\u001b[39mCASE_DURATION[case1])]\n",
      "\u001b[1;31mTypeError\u001b[0m: unsupported operand type(s) for &: 'InequalityExpression' and 'bool'"
     ]
    }
   ],
   "source": [
    "scheduler = sch_mda.TheatreScheduler(case_file_path=case_path, session_file_path=session_path)"
   ]
  },
  {
   "cell_type": "code",
   "execution_count": null,
   "id": "da1ef9ff",
   "metadata": {},
   "outputs": [],
   "source": [
    "cbc_path = \"C:\\\\Program Files\\\\Cbc-releases.2.10.8-w64-msvc16-md\\\\bin\\\\cbc.exe\"\n",
    "scheduler.solve(solver_name=\"cbc\", solver_path=cbc_path, options=options)"
   ]
  },
  {
   "cell_type": "code",
   "execution_count": 62,
   "id": "37737050",
   "metadata": {},
   "outputs": [],
   "source": [
    "times=[1.9, 10, 20, 34.87, 35.02, 40]\n",
    "cnt=0\n",
    "for x in times:\n",
    "# for x in range(1,130,10):\n",
    "    options = {\"seconds\": x}\n",
    "    scheduler.solve(solver_name=\"cbc\", solver_path=cbc_path, options=options)\n",
    "    plt.savefig('test'+str(cnt)+'.png')\n",
    "    cnt+=1"
   ]
  },
  {
   "cell_type": "code",
   "execution_count": 42,
   "id": "36cf39de",
   "metadata": {},
   "outputs": [
    {
     "name": "stdout",
     "output_type": "stream",
     "text": [
      "Moviepy - Building video my_video.mp4.\n",
      "Moviepy - Writing video my_video.mp4\n",
      "\n"
     ]
    },
    {
     "name": "stderr",
     "output_type": "stream",
     "text": [
      "                                                                                                                       \r"
     ]
    },
    {
     "name": "stdout",
     "output_type": "stream",
     "text": [
      "Moviepy - Done !\n",
      "Moviepy - video ready my_video.mp4\n"
     ]
    }
   ],
   "source": [
    "import os\n",
    "import moviepy.video.io.ImageSequenceClip\n",
    "image_folder='C:/Users/lliu10/OneDrive - Inside MD Anderson/Documents/GitHub/theatre-scheduling/modelling'\n",
    "fps=1\n",
    "\n",
    "image_files = [os.path.join(image_folder,img)\n",
    "               for img in os.listdir(image_folder)\n",
    "               if img.endswith(\".png\")]\n",
    "clip = moviepy.video.io.ImageSequenceClip.ImageSequenceClip(image_files, fps=fps)\n",
    "clip.write_videofile('my_video.mp4')"
   ]
  }
 ],
 "metadata": {
  "kernelspec": {
   "display_name": "Python 3 (ipykernel)",
   "language": "python",
   "name": "python3"
  },
  "language_info": {
   "codemirror_mode": {
    "name": "ipython",
    "version": 3
   },
   "file_extension": ".py",
   "mimetype": "text/x-python",
   "name": "python",
   "nbconvert_exporter": "python",
   "pygments_lexer": "ipython3",
   "version": "3.8.3"
  }
 },
 "nbformat": 4,
 "nbformat_minor": 5
}
