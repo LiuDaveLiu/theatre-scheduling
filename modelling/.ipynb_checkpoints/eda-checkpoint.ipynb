{
 "cells": [
  {
   "cell_type": "code",
   "execution_count": 6,
   "id": "1eb234e1",
   "metadata": {},
   "outputs": [],
   "source": [
    "# Import pyomo libraries\n",
    "import pandas as pd\n",
    "import pyomo.environ as pe\n",
    "import pyomo.gdp as pyogdp\n",
    "import os\n",
    "import matplotlib.pyplot as plt\n",
    "import matplotlib.cm as cm\n",
    "from itertools import product"
   ]
  },
  {
   "cell_type": "code",
   "execution_count": 3,
   "id": "d3d278b4",
   "metadata": {},
   "outputs": [],
   "source": [
    "# Define Model\n",
    "model = pe.ConcreteModel()"
   ]
  },
  {
   "cell_type": "code",
   "execution_count": 13,
   "id": "3ad8a1a4",
   "metadata": {},
   "outputs": [],
   "source": [
    "# Import cases and sessions data into pyomo model\n",
    "case_path = os.path.join(os.path.dirname(os.getcwd()), \"data\", \"cases.csv\")\n",
    "session_path = os.path.join(os.path.dirname(os.getcwd()), \"data\", \"sessions.csv\")\n",
    "options = {\"seconds\": 300}\n",
    "scheduler = TheatreScheduler(case_file_path=case_path, session_file_path=session_path)"
   ]
  },
  {
   "cell_type": "code",
   "execution_count": 12,
   "id": "8b214ef8",
   "metadata": {},
   "outputs": [],
   "source": [
    "class TheatreScheduler:\n",
    "\n",
    "    def __init__(self, case_file_path, session_file_path):\n",
    "        \"\"\"\n",
    "        Read case and session data into Pandas DataFrames\n",
    "        Args:\n",
    "            case_file_path (str): path to case data in CSV format\n",
    "            session_file_path (str): path to theatre session data in CSV format\n",
    "        \"\"\"\n",
    "        try:\n",
    "            self.df_cases = pd.read_csv(case_file_path)\n",
    "        except FileNotFoundError:\n",
    "            print(\"Case data not found.\")\n",
    "\n",
    "        try:\n",
    "            self.df_sessions = pd.read_csv(session_file_path)\n",
    "        except FileNotFoundError:\n",
    "            print(\"Session data not found\")\n",
    "            \n",
    "        self.model = self.create_model()\n",
    "            \n",
    "    def create_model(self):\n",
    "        model = pe.ConcreteModel()\n",
    "\n",
    "        # Model Data\n",
    "\n",
    "        # List of case IDs in surgical waiting list\n",
    "        model.CASES = pe.Set(initialize=self.df_cases[\"CaseID\"].tolist())\n",
    "        # List of sessions IDs\n",
    "        model.SESSIONS = pe.Set(initialize=self.df_sessions[\"SessionID\"].tolist())\n",
    "        # List of tasks - all possible (caseID, sessionID) combination\n",
    "        model.TASKS = pe.Set(initialize=model.CASES * model.SESSIONS, dimen=2)\n",
    "        # The duration (median case time) for each operation\n",
    "        model.CASE_DURATION = pe.Param(model.CASES, initialize=self._generate_case_durations())\n",
    "        # The duration of each theatre session\n",
    "        model.SESSION_DURATION = pe.Param(model.SESSIONS, initialize=self._generate_session_durations())\n",
    "        # The start time of each theatre session\n",
    "        model.SESSION_START_TIME = pe.Param(model.SESSIONS, initialize=self._generate_session_start_times())\n",
    "        # The deadline of each case\n",
    "        model.CASE_DEADLINES = pe.Param(model.CASES, initialize=self._get_ordinal_case_deadlines())\n",
    "        # The date of each theatre session\n",
    "        model.SESSION_DATES = pe.Param(model.SESSIONS, initialize=self._get_ordinal_session_dates())\n",
    "\n",
    "\n",
    "        model.DISJUNCTIONS = pe.Set(initialize=self._generate_disjunctions(), dimen=3)\n",
    "\n",
    "        ub = 1440  # seconds in a day\n",
    "        model.M = pe.Param(initialize=1e3*ub)  # big M\n",
    "        max_util = 0.85\n",
    "        num_cases = self.df_cases.shape[0]\n",
    "\n",
    "        # Decision Variables\n",
    "        model.SESSION_ASSIGNED = pe.Var(model.TASKS, domain=pe.Binary)\n",
    "        model.CASE_START_TIME = pe.Var(model.TASKS, bounds=(0, ub), within=pe.PositiveReals)\n",
    "        model.CASES_IN_SESSION = pe.Var(model.SESSIONS, bounds=(0, num_cases), within=pe.PositiveReals)\n",
    "\n",
    "        # Objective\n",
    "        def objective_function(model):\n",
    "            return pe.summation(model.CASES_IN_SESSION)\n",
    "            #return sum([model.SESSION_ASSIGNED[case, session] for case in model.CASES for session in model.SESSIONS])\n",
    "        model.OBJECTIVE = pe.Objective(rule=objective_function, sense=pe.maximize)\n",
    "\n",
    "        # Constraints\n",
    "\n",
    "        # Case start time must be after start time of assigned theatre session\n",
    "        def case_start_time(model, case, session):\n",
    "            return model.CASE_START_TIME[case, session] >= model.SESSION_START_TIME[session] - \\\n",
    "                   ((1 - model.SESSION_ASSIGNED[(case, session)])*model.M)\n",
    "        model.CASE_START = pe.Constraint(model.TASKS, rule=case_start_time)\n",
    "\n",
    "        # Case end time must be before end time of assigned theatre session\n",
    "        def case_end_time(model, case, session):\n",
    "            return model.CASE_START_TIME[case, session] + model.CASE_DURATION[case] <= model.SESSION_START_TIME[session] + \\\n",
    "                   model.SESSION_DURATION[session]*max_util + ((1 - model.SESSION_ASSIGNED[(case, session)]) * model.M)\n",
    "        model.CASE_END_TIME = pe.Constraint(model.TASKS, rule=case_end_time)\n",
    "\n",
    "        # Cases can be assigned to a maximum of one session\n",
    "        def session_assignment(model, case):\n",
    "            return sum([model.SESSION_ASSIGNED[(case, session)] for session in model.SESSIONS]) <= 1\n",
    "        model.SESSION_ASSIGNMENT = pe.Constraint(model.CASES, rule=session_assignment)\n",
    "\n",
    "        def set_deadline_condition(model, case, session):\n",
    "            return model.SESSION_DATES[session] <= model.CASE_DEADLINES[case] + ((1 - model.SESSION_ASSIGNED[case, session])*model.M)\n",
    "        model.APPLY_DEADLINE = pe.Constraint(model.TASKS, rule=set_deadline_condition)\n",
    "\n",
    "        def no_case_overlap(model, case1, case2, session):\n",
    "            return [model.CASE_START_TIME[case1, session] + model.CASE_DURATION[case1] <= model.CASE_START_TIME[case2, session] + \\\n",
    "                    ((2 - model.SESSION_ASSIGNED[case1, session] - model.SESSION_ASSIGNED[case2, session])*model.M),\n",
    "                    model.CASE_START_TIME[case2, session] + model.CASE_DURATION[case2] <= model.CASE_START_TIME[case1, session] + \\\n",
    "                    ((2 - model.SESSION_ASSIGNED[case1, session] - model.SESSION_ASSIGNED[case2, session])*model.M)]\n",
    "\n",
    "        model.DISJUNCTIONS_RULE = pyogdp.Disjunction(model.DISJUNCTIONS, rule=no_case_overlap)\n",
    "\n",
    "        def theatre_util(model, session):\n",
    "            return model.CASES_IN_SESSION[session] == \\\n",
    "                   sum([model.SESSION_ASSIGNED[case, session] for case in model.CASES])\n",
    "\n",
    "        model.THEATRE_UTIL = pe.Constraint(model.SESSIONS, rule=theatre_util)\n",
    "\n",
    "        pe.TransformationFactory(\"gdp.bigm\").apply_to(model)\n",
    "\n",
    "        return model"
   ]
  },
  {
   "cell_type": "code",
   "execution_count": 14,
   "id": "caa485ce",
   "metadata": {},
   "outputs": [
    {
     "data": {
      "text/plain": [
       "<__main__.TheatreScheduler at 0x1ef46f02430>"
      ]
     },
     "execution_count": 14,
     "metadata": {},
     "output_type": "execute_result"
    }
   ],
   "source": [
    "scheduler"
   ]
  },
  {
   "cell_type": "code",
   "execution_count": 4,
   "id": "fc5f2c88",
   "metadata": {},
   "outputs": [
    {
     "ename": "NameError",
     "evalue": "name 'self' is not defined",
     "output_type": "error",
     "traceback": [
      "\u001b[1;31m---------------------------------------------------------------------------\u001b[0m",
      "\u001b[1;31mNameError\u001b[0m                                 Traceback (most recent call last)",
      "Cell \u001b[1;32mIn[4], line 2\u001b[0m\n\u001b[0;32m      1\u001b[0m \u001b[38;5;66;03m# List of case IDs in surgical waiting list\u001b[39;00m\n\u001b[1;32m----> 2\u001b[0m model\u001b[38;5;241m.\u001b[39mCASES \u001b[38;5;241m=\u001b[39m pe\u001b[38;5;241m.\u001b[39mSet(initialize\u001b[38;5;241m=\u001b[39m\u001b[38;5;28;43mself\u001b[39;49m\u001b[38;5;241m.\u001b[39mdf_cases[\u001b[38;5;124m\"\u001b[39m\u001b[38;5;124mCaseID\u001b[39m\u001b[38;5;124m\"\u001b[39m]\u001b[38;5;241m.\u001b[39mtolist())\n\u001b[0;32m      3\u001b[0m \u001b[38;5;66;03m# List of sessions IDs\u001b[39;00m\n\u001b[0;32m      4\u001b[0m model\u001b[38;5;241m.\u001b[39mSESSIONS \u001b[38;5;241m=\u001b[39m pe\u001b[38;5;241m.\u001b[39mSet(initialize\u001b[38;5;241m=\u001b[39m\u001b[38;5;28mself\u001b[39m\u001b[38;5;241m.\u001b[39mdf_sessions[\u001b[38;5;124m\"\u001b[39m\u001b[38;5;124mSessionID\u001b[39m\u001b[38;5;124m\"\u001b[39m]\u001b[38;5;241m.\u001b[39mtolist())\n",
      "\u001b[1;31mNameError\u001b[0m: name 'self' is not defined"
     ]
    }
   ],
   "source": [
    "# List of case IDs in surgical waiting list\n",
    "model.CASES = pe.Set(initialize=self.df_cases[\"CaseID\"].tolist())\n",
    "# List of sessions IDs\n",
    "model.SESSIONS = pe.Set(initialize=self.df_sessions[\"SessionID\"].tolist())\n",
    "# List of job shop tasks - all possible combinations of cases and sessions (caseID, sessionID)\n",
    "model.TASKS = pe.Set(initialize=model.CASES * model.SESSIONS, dimen=2)\n",
    "# The duration (expected case time) for each operation\n",
    "model.CASE_DURATION = pe.Param(model.CASES, initialize=self._generate_case_durations())\n",
    "# The duration of each theatre session\n",
    "model.SESSION_DURATION = pe.Param(model.SESSIONS, initialize=self._generate_session_durations())\n",
    "# The start time of each theatre session\n",
    "model.SESSION_START_TIME = pe.Param(model.SESSIONS, initialize=self._generate_session_start_times())\n",
    "# The deadline of each case\n",
    "model.CASE_DEADLINES = pe.Param(model.CASES, initialize=self._get_ordinal_case_deadlines())\n",
    "# The date of each theatre session\n",
    "model.SESSION_DATES = pe.Param(model.SESSIONS, initialize=self._get_ordinal_session_dates())"
   ]
  },
  {
   "cell_type": "code",
   "execution_count": null,
   "id": "a5515e09",
   "metadata": {},
   "outputs": [],
   "source": []
  }
 ],
 "metadata": {
  "kernelspec": {
   "display_name": "Python 3 (ipykernel)",
   "language": "python",
   "name": "python3"
  },
  "language_info": {
   "codemirror_mode": {
    "name": "ipython",
    "version": 3
   },
   "file_extension": ".py",
   "mimetype": "text/x-python",
   "name": "python",
   "nbconvert_exporter": "python",
   "pygments_lexer": "ipython3",
   "version": "3.8.3"
  }
 },
 "nbformat": 4,
 "nbformat_minor": 5
}
